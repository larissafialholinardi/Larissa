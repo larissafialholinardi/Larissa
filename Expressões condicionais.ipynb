{
 "cells": [
  {
   "cell_type": "code",
   "execution_count": 1,
   "metadata": {},
   "outputs": [
    {
     "name": "stdout",
     "output_type": "stream",
     "text": [
      "Digite a nota 1: 5\n",
      "Digite a noat 2: 10\n",
      "Aprovado\n",
      "Média:  7.5\n"
     ]
    }
   ],
   "source": [
    "nota1 = float(input('Digite a nota 1: '))\n",
    "nota2 = float(input('Digite a noat 2: '))\n",
    "\n",
    "media = (nota1 + nota2)/2\n",
    "\n",
    "if media >= 6.0:\n",
    "    print('Aprovado')\n",
    "print('Média: ', media)"
   ]
  },
  {
   "cell_type": "code",
   "execution_count": 3,
   "metadata": {},
   "outputs": [
    {
     "name": "stdout",
     "output_type": "stream",
     "text": [
      "Digite a nota 1: 5\n",
      "Digite a noat 2: 6\n",
      "Reprovado\n",
      "Média:  5.5\n"
     ]
    }
   ],
   "source": [
    "nota1 = float(input('Digite a nota 1: '))\n",
    "nota2 = float(input('Digite a noat 2: '))\n",
    "\n",
    "media = (nota1 + nota2)/2\n",
    "\n",
    "if media >= 6.0:\n",
    "    print('Aprovado')\n",
    "if media < 6.0:\n",
    "    print('Reprovado')\n",
    "\n",
    "print('Média: ', media)"
   ]
  },
  {
   "cell_type": "code",
   "execution_count": 4,
   "metadata": {},
   "outputs": [
    {
     "name": "stdout",
     "output_type": "stream",
     "text": [
      "Digite a nota 1: 5\n",
      "Digite a noat 2: 2\n",
      "Reprovado\n",
      "Média:  3.5\n"
     ]
    }
   ],
   "source": [
    "nota1 = float(input('Digite a nota 1: '))\n",
    "nota2 = float(input('Digite a noat 2: '))\n",
    "\n",
    "media = (nota1 + nota2)/2\n",
    "\n",
    "if media >= 6.0:\n",
    "    print('Aprovado')\n",
    "else:\n",
    "    print('Reprovado')\n",
    "\n",
    "print('Média: ', media)"
   ]
  },
  {
   "cell_type": "code",
   "execution_count": null,
   "metadata": {},
   "outputs": [],
   "source": [
    "nota1 = float(input('Digite a nota 1: '))\n",
    "nota2 = float(input('Digite a noat 2: '))\n",
    "\n",
    "media = (nota1 + nota2)/2\n",
    "\n",
    "if media >= 6.0:\n",
    "    print('Aprovado')\n",
    "else:\n",
    "    if media >= 3.0:\n",
    "        print('Recuperação')\n",
    "    else:\n",
    "        print('Reprovado')\n",
    "\n",
    "print('Média: ', media)"
   ]
  },
  {
   "cell_type": "code",
   "execution_count": null,
   "metadata": {},
   "outputs": [],
   "source": [
    "nota1 = float(input('Digite a nota 1: '))\n",
    "nota2 = float(input('Digite a noat 2: '))\n",
    "\n",
    "media = (nota1 + nota2)/2\n",
    "\n",
    "if media >= 6.0:\n",
    "    print('Aprovado')\n",
    "elif media >= 3.0:\n",
    "    print('Recuperação')\n",
    "else:\n",
    "    print('Reprovado')\n",
    "\n",
    "print('Média: ', media)"
   ]
  },
  {
   "cell_type": "code",
   "execution_count": 13,
   "metadata": {},
   "outputs": [
    {
     "name": "stdout",
     "output_type": "stream",
     "text": [
      "digite o numero-10\n",
      "É menor do que -10\n"
     ]
    }
   ],
   "source": [
    "numero = int(input('digite o numero'))\n",
    "if (numero == 0):\n",
    "    print('É zero')\n",
    "elif (numero > -10):\n",
    "    print('É maior do que -10')\n",
    "else:\n",
    "    print('É menor do que -10')"
   ]
  },
  {
   "cell_type": "code",
   "execution_count": 24,
   "metadata": {},
   "outputs": [
    {
     "name": "stdout",
     "output_type": "stream",
     "text": [
      "Qual sua idade17\n",
      "Menor de 18 anos\n"
     ]
    }
   ],
   "source": [
    "#Faça um programa que peça a idade do usuário e imprima se ele é maior ou menor de 18 anos.\n",
    "\n",
    "idade = int(input('Qual sua idade'))\n",
    "if (idade >= 18):\n",
    "    print('Maior de 18 anos')\n",
    "else:\n",
    "    print('Menor de 18 anos')"
   ]
  },
  {
   "cell_type": "code",
   "execution_count": 27,
   "metadata": {},
   "outputs": [
    {
     "name": "stdout",
     "output_type": "stream",
     "text": [
      "Digite o número -9\n",
      "É negativo\n"
     ]
    }
   ],
   "source": [
    "numero = int(input('Digite o número '))\n",
    "if (numero == 0):\n",
    "    print('É zero')\n",
    "elif (numero > 0):\n",
    "    print('É positivo')\n",
    "else:\n",
    "    print('É negativo')"
   ]
  },
  {
   "cell_type": "code",
   "execution_count": 31,
   "metadata": {},
   "outputs": [
    {
     "name": "stdout",
     "output_type": "stream",
     "text": [
      "Digite o 1º número: -10\n",
      "Digite o 2º número: 0\n",
      "0\n"
     ]
    }
   ],
   "source": [
    "numero_1 = float(input('Digite o 1º número: '))\n",
    "numero_2 = float(input('Digite o 2º número: '))\n",
    "\n",
    "if (numero_1 == numero_2):\n",
    "    print('São iguais')\n",
    "elif (numero_1 > numero_2):\n",
    "    print(numero_1)\n",
    "else:\n",
    "    print(numero_2)"
   ]
  },
  {
   "cell_type": "code",
   "execution_count": 62,
   "metadata": {},
   "outputs": [
    {
     "name": "stdout",
     "output_type": "stream",
     "text": [
      "Digite sua idade: 5\n",
      "5\n",
      "Digite seu salário: 6\n",
      "6.0\n",
      "Sexo, escolha entre F, M ou Outros: f\n",
      "f\n"
     ]
    }
   ],
   "source": [
    "#a. Idade: entre 0 e 150;\n",
    "#b. Salário: maior que 0;\n",
    "#c. Sexo: M, F ou Outro;\n",
    "\n",
    "idade = int(input('Digite sua idade: '))\n",
    "while (idade < 0) or (idade > 150):\n",
    "    idade = int(input(\"Você deve ter entre 0 e 150 anos: \"))\n",
    "print(idade)\n",
    "\n",
    "salario = float(input('Digite seu salário: '))  \n",
    "while (salario<0):\n",
    "    salario = float(input(\"A coisa tá difícil, mas não tem salário negativo: \"))\n",
    "print(salario)\n",
    "\n",
    "sexo = str(input('Sexo, escolha entre F, M ou Outros: '))  \n",
    "while (sexo!= 'f') and (sexo!='m') and (sexo!='Outros'):\n",
    "    sexo = input(\"Você deve escolher entre as opções: F, M ou Outros: \")\n",
    "print(sexo)  \n",
    "    "
   ]
  },
  {
   "cell_type": "code",
   "execution_count": 65,
   "metadata": {},
   "outputs": [
    {
     "name": "stdout",
     "output_type": "stream",
     "text": [
      "Digite a nota 1: 1\n",
      "Digite a nota 2: 2\n",
      "Digite a nota 3: 3\n",
      "Reprovado\n",
      "Média:  1.6666666666666667\n"
     ]
    }
   ],
   "source": [
    "nota1 = float(input('Digite a nota 1: '))\n",
    "nota2 = float(input('Digite a nota 2: '))\n",
    "nota3 = float(input('Digite a nota 3: '))\n",
    "\n",
    "media = (nota1 + nota2 + nota2)/3\n",
    "\n",
    "if media >= 6.0:\n",
    "    print('Aprovado')\n",
    "else:\n",
    "    if media >= 3.0:\n",
    "        print('Recuperação')\n",
    "    else:\n",
    "        print('Reprovado')\n",
    "\n",
    "print('Média: ', media)"
   ]
  },
  {
   "cell_type": "code",
   "execution_count": 78,
   "metadata": {},
   "outputs": [
    {
     "name": "stdout",
     "output_type": "stream",
     "text": [
      "Quando é 1+1? \n",
      "a) 0 \n",
      "b) 1 \n",
      "c) 2 \n",
      "d) 3 \n",
      "e) 4\n",
      "c\n",
      "A resposta escolhida pelo usuário foi c e a resposta está CORRETA\n"
     ]
    }
   ],
   "source": [
    "resposta_usuario = str(input('Quando é 1+1? \\na) 0 \\nb) 1 \\nc) 2 \\nd) 3 \\ne) 4\\n')) \n",
    "while (resposta_usuario!= 'a') and (resposta_usuario!= 'b') and (resposta_usuario!= 'c') and (resposta_usuario!= 'd')and (resposta_usuario!= 'e') :\n",
    "    resposta_usuario = str(input('Selecione uma das opções disponiveis!'))                     \n",
    "\n",
    "if resposta_usuario == 'c':\n",
    "    print('A resposta escolhida pelo usuário foi',resposta_usuario,'e a resposta está CORRETA') \n",
    "else:\n",
    "    print('A resposta escolhida pelo usuário foi',resposta_usuario,'e a resposta está ERRADA') \n",
    "\n"
   ]
  },
  {
   "cell_type": "code",
   "execution_count": 91,
   "metadata": {},
   "outputs": [
    {
     "name": "stdout",
     "output_type": "stream",
     "text": [
      "a. Mora perto da vítima? \n",
      "A) SIM \n",
      "B) NÃO\n",
      "b\n",
      "Selecione uma das opções disponiveis!b\n",
      "Selecione uma das opções disponiveis!b\n",
      "Selecione uma das opções disponiveis!B\n",
      "\n",
      "b. Já trabalhou com a vítima? \n",
      "A) SIM \n",
      "B) NÃO\n",
      "B\n",
      "\n",
      "c. Telefonou para a vítima? \n",
      "A) SIM \n",
      "B) NÃO\n",
      "B\n",
      "\n",
      "d. Esteve no local do crime? \n",
      "A) SIM \n",
      "B) NÃO\n",
      "B\n",
      "\n",
      "e. Devia para a vítima? \n",
      "A) SIM \n",
      "B) NÃO\n",
      "B\n",
      "Tá liberado :D\n"
     ]
    }
   ],
   "source": [
    "resposta_1 = str(input('a. Mora perto da vítima? \\nA) SIM \\nB) NÃO\\n')) \n",
    "while (resposta_1!= 'A') and (resposta_1!= 'B') :\n",
    "    resposta_1 = str(input('Selecione uma das opções disponiveis!'))\n",
    "\n",
    "resposta_2 = str(input('\\nb. Já trabalhou com a vítima? \\nA) SIM \\nB) NÃO\\n')) \n",
    "while (resposta_2!= 'A') and (resposta_2!= 'B') :\n",
    "    resposta_2 = str(input('Selecione uma das opções disponiveis!'))          \n",
    "\n",
    "resposta_3 = str(input('\\nc. Telefonou para a vítima? \\nA) SIM \\nB) NÃO\\n')) \n",
    "while (resposta_3!= 'A') and (resposta_3!= 'B') :\n",
    "    resposta_3 = str(input('Selecione uma das opções disponiveis!'))     \n",
    "\n",
    "resposta_4 = str(input('\\nd. Esteve no local do crime? \\nA) SIM \\nB) NÃO\\n')) \n",
    "while (resposta_4!= 'A') and (resposta_4!= 'B') :\n",
    "    resposta_4 = str(input('Selecione uma das opções disponiveis!'))\n",
    "\n",
    "resposta_5 = str(input('\\ne. Devia para a vítima? \\nA) SIM \\nB) NÃO\\n')) \n",
    "while (resposta_5!= 'A') and (resposta_5!= 'B') :\n",
    "    resposta_5 = str(input('Selecione uma das opções disponiveis!'))\n",
    "\n",
    "num_sim = int(0)\n",
    "if resposta_1 =='A':\n",
    "    num_sim += 1\n",
    "if resposta_2 =='A':\n",
    "    num_sim += 1\n",
    "if resposta_3 =='A':\n",
    "    num_sim += 1\n",
    "if resposta_4 =='A':\n",
    "    num_sim += 1\n",
    "if resposta_5 =='A':\n",
    "    num_sim += 1\n",
    "\n",
    "if num_sim == 5:\n",
    "    print('ASSASSINO!!')\n",
    "if (num_sim == 4) or (num_sim == 3):\n",
    "    print('Cúmplices!!')\n",
    "if num_sim == 2:\n",
    "    print('Suspeito!!')\n",
    "if num_sim == 1:\n",
    "    print('Vamos investigar!!')\n",
    "if num_sim == 0:\n",
    "    print('Tá liberado :D')"
   ]
  },
  {
   "cell_type": "code",
   "execution_count": 94,
   "metadata": {},
   "outputs": [
    {
     "name": "stdout",
     "output_type": "stream",
     "text": [
      "Primeiro número: 5\n",
      "Segundo número : 6\n",
      "Terceiro número: 8\n",
      "o número maior é:  8\n"
     ]
    }
   ],
   "source": [
    "primeiro = int(input('Primeiro número: '))\n",
    "segundo  = int(input('Segundo número : '))\n",
    "terceiro = int(input('Terceiro número: '))\n",
    "\n",
    "maior = primeiro\n",
    "\n",
    "if (segundo > maior):\n",
    "    maior = segundo\n",
    "if (terceiro > maior):\n",
    "    maior = terceiro\n",
    "\n",
    "print('o número maior é: ',maior)"
   ]
  },
  {
   "cell_type": "code",
   "execution_count": 96,
   "metadata": {},
   "outputs": [
    {
     "name": "stdout",
     "output_type": "stream",
     "text": [
      "Primeiro número: 10\n",
      "Segundo número : 2\n",
      "Terceiro número: 5\n",
      "Quarto número: 8\n",
      "o número maior é:  10\n"
     ]
    }
   ],
   "source": [
    "primeiro = int(input('Primeiro número: '))\n",
    "segundo  = int(input('Segundo número : '))\n",
    "terceiro = int(input('Terceiro número: '))\n",
    "quarto = int(input('Quarto número: '))\n",
    "\n",
    "maior = primeiro\n",
    "\n",
    "if (segundo > maior):\n",
    "    maior = segundo\n",
    "if (terceiro > maior):\n",
    "    maior = terceiro\n",
    "if (quarto> maior):\n",
    "    maior = quarto\n",
    "\n",
    "print('o número maior é: ',maior)"
   ]
  },
  {
   "cell_type": "code",
   "execution_count": 100,
   "metadata": {},
   "outputs": [
    {
     "name": "stdout",
     "output_type": "stream",
     "text": [
      "a. Sente dor no corpo? \n",
      "A) SIM \n",
      "B) NÃO\n",
      "A\n",
      "\n",
      "b. Você tem febre? \n",
      "A) SIM \n",
      "B) NÃO\n",
      "A\n",
      "\n",
      "c. Você tem tosse? \n",
      "A) SIM \n",
      "B) NÃO\n",
      "A\n",
      "\n",
      "d. Está com congestão nasal? \n",
      "A) SIM \n",
      "B) NÃO\n",
      "A\n",
      "\n",
      "e. Tem manchas pelo corpo? \n",
      "A) SIM \n",
      "B) NÃO\n",
      "A\n",
      "Diagnóstico não localizado. Procure um médico\n"
     ]
    }
   ],
   "source": [
    "resposta_1 = str(input('a. Sente dor no corpo? \\nA) SIM \\nB) NÃO\\n')) \n",
    "while (resposta_1!= 'A') and (resposta_1!= 'B') :\n",
    "    resposta_1 = str(input('Selecione uma das opções disponiveis!'))\n",
    "\n",
    "resposta_2 = str(input('\\nb. Você tem febre? \\nA) SIM \\nB) NÃO\\n')) \n",
    "while (resposta_2!= 'A') and (resposta_2!= 'B') :\n",
    "    resposta_2 = str(input('Selecione uma das opções disponiveis!'))          \n",
    "\n",
    "resposta_3 = str(input('\\nc. Você tem tosse? \\nA) SIM \\nB) NÃO\\n')) \n",
    "while (resposta_3!= 'A') and (resposta_3!= 'B') :\n",
    "    resposta_3 = str(input('Selecione uma das opções disponiveis!'))     \n",
    "\n",
    "resposta_4 = str(input('\\nd. Está com congestão nasal? \\nA) SIM \\nB) NÃO\\n')) \n",
    "while (resposta_4!= 'A') and (resposta_4!= 'B') :\n",
    "    resposta_4 = str(input('Selecione uma das opções disponiveis!'))\n",
    "\n",
    "resposta_5 = str(input('\\ne. Tem manchas pelo corpo? \\nA) SIM \\nB) NÃO\\n')) \n",
    "while (resposta_5!= 'A') and (resposta_5!= 'B') :\n",
    "    resposta_5 = str(input('Selecione uma das opções disponiveis!'))\n",
    "\n",
    "if (resposta_1 == 'A') and (resposta_2 == 'A') and (resposta_3 == 'B') and (resposta_4 == 'B') and (resposta_5 == 'A'):\n",
    "    print('Dengue')\n",
    "if (resposta_1 == 'A') and (resposta_2 == 'A') and (resposta_3 == 'A') and (resposta_4 == 'A') and (resposta_5 == 'B'):\n",
    "    print('Gripe')\n",
    "if (resposta_1 == 'B') and (resposta_2 == 'A') and (resposta_3 == 'A') and (resposta_4 == 'A') and (resposta_5 == 'B'):\n",
    "    print('Gripe')\n",
    "if (resposta_1 == 'A') and (resposta_2 == 'B') and (resposta_3 == 'B') and (resposta_4 == 'B') and (resposta_5 == 'B'):\n",
    "    print('Sem doenças')\n",
    "if (resposta_1 == 'B') and (resposta_2 == 'B') and (resposta_3 == 'B') and (resposta_4 == 'B') and (resposta_5 == 'B'):\n",
    "    print('Sem doenças')\n",
    "else:\n",
    "    print('Diagnóstico não localizado. Procure um médico')"
   ]
  },
  {
   "cell_type": "code",
   "execution_count": 120,
   "metadata": {},
   "outputs": [
    {
     "name": "stdout",
     "output_type": "stream",
     "text": [
      "Digite o valor do produto de acordo com o preço antigo: \n",
      "200\n",
      "Preço reajustado é 229.99999999999997 - Muito Caro\n"
     ]
    }
   ],
   "source": [
    "preco_antigo = float(input('Digite o valor do produto de acordo com o preço antigo: \\n'))\n",
    "\n",
    "if preco_antigo < 50:\n",
    "    preco_reajustado = preco_antigo * 1.05\n",
    "elif (preco_antigo >= 50) and (preco_antigo < 100):\n",
    "    preco_reajustado = preco_antigo * 1.10\n",
    "elif (preco_antigo >= 100) and (preco_antigo < 150):\n",
    "    preco_reajustado = preco_antigo * 1.13\n",
    "elif (preco_antigo > 150):\n",
    "    preco_reajustado = preco_antigo * 1.15\n",
    "\n",
    "if preco_reajustado < 80:\n",
    "    print('Preço reajustado é',preco_reajustado,'- Barato')\n",
    "elif (preco_reajustado >= 80) and (preco_reajustado < 115):\n",
    "    print('Preço reajustado é',preco_reajustado,'- Razoável')\n",
    "elif (preco_reajustado >= 115) and (preco_reajustado < 150):\n",
    "    print('Preço reajustado é',preco_reajustado,'- Normal')\n",
    "elif (preco_reajustado >= 150) and (preco_reajustado < 170):\n",
    "    print('Preço reajustado é',preco_reajustado,'- Caro')\n",
    "elif (preco_reajustado > 170):\n",
    "    print('Preço reajustado é',preco_reajustado,'- Muito Caro')"
   ]
  },
  {
   "cell_type": "code",
   "execution_count": null,
   "metadata": {},
   "outputs": [],
   "source": []
  },
  {
   "cell_type": "code",
   "execution_count": null,
   "metadata": {},
   "outputs": [],
   "source": []
  }
 ],
 "metadata": {
  "kernelspec": {
   "display_name": "Python 3",
   "language": "python",
   "name": "python3"
  },
  "language_info": {
   "codemirror_mode": {
    "name": "ipython",
    "version": 3
   },
   "file_extension": ".py",
   "mimetype": "text/x-python",
   "name": "python",
   "nbconvert_exporter": "python",
   "pygments_lexer": "ipython3",
   "version": "3.8.3"
  }
 },
 "nbformat": 4,
 "nbformat_minor": 4
}
