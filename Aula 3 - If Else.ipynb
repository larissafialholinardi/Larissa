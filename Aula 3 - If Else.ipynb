{
 "cells": [
  {
   "cell_type": "code",
   "execution_count": 27,
   "metadata": {},
   "outputs": [
    {
     "name": "stdout",
     "output_type": "stream",
     "text": [
      "Você é A, B ou N: N\n",
      "Digite sua nota: 9\n",
      "9.0\n"
     ]
    }
   ],
   "source": [
    "cotista = str(input('Você é A, B ou N: '))\n",
    "nota = float(input('Digite sua nota: '))\n",
    "\n",
    "if cotista == \"A\":\n",
    "    nota = nota * 1.1\n",
    "    print(nota)\n",
    "elif cotista == \"B\":\n",
    "    nota = nota * 1.05\n",
    "    print(nota)\n",
    "else:\n",
    "    print(nota)\n"
   ]
  },
  {
   "cell_type": "code",
   "execution_count": 29,
   "metadata": {},
   "outputs": [
    {
     "name": "stdout",
     "output_type": "stream",
     "text": [
      "Digite um número maior que 10:9\n",
      "Número inválido!\n",
      "Digite um número maior que 10:9\n",
      "Número inválido!\n",
      "Digite um número maior que 10:9\n",
      "Número inválido!\n",
      "Digite um número maior que 10:5\n",
      "Número inválido!\n",
      "Digite um número maior que 10:2\n",
      "Número inválido!\n",
      "Digite um número maior que 10:11\n"
     ]
    },
    {
     "data": {
      "text/plain": [
       "11.0"
      ]
     },
     "execution_count": 29,
     "metadata": {},
     "output_type": "execute_result"
    }
   ],
   "source": [
    "num = float(input('Digite um número maior que 10:'))\n",
    "\n",
    "while num <= 10:\n",
    "    print('Número inválido!')\n",
    "    num = float(input('Digite um número maior que 10:'))\n",
    "num"
   ]
  },
  {
   "cell_type": "code",
   "execution_count": null,
   "metadata": {},
   "outputs": [],
   "source": [
    "num = float(input('Digite um número maior que 10:'))\n",
    "\n",
    "while num <= 10:\n",
    "    print('Número inválido!')\n",
    "    num = float(input('Digite um número maior que 10:'))\n",
    "num"
   ]
  },
  {
   "cell_type": "code",
   "execution_count": 32,
   "metadata": {},
   "outputs": [
    {
     "name": "stdout",
     "output_type": "stream",
     "text": [
      "Digite anota 0-10:11\n",
      "Digite anota 0-10\n",
      "Digite anota 0-1095\n",
      "Digite anota 0-10\n",
      "Digite anota 0-1010\n"
     ]
    },
    {
     "data": {
      "text/plain": [
       "10.0"
      ]
     },
     "execution_count": 32,
     "metadata": {},
     "output_type": "execute_result"
    }
   ],
   "source": [
    "nota = float(input('Digite anota 0-10:'))\n",
    "\n",
    "while nota < 0 or nota > 10:\n",
    "    print('Digite anota 0-10')\n",
    "    nota = float(input('Digite anota 0-10'))\n",
    "nota"
   ]
  },
  {
   "cell_type": "code",
   "execution_count": 36,
   "metadata": {},
   "outputs": [
    {
     "name": "stdout",
     "output_type": "stream",
     "text": [
      "Digite o 1º número:5.5\n",
      "Digite o 2º número:5\n",
      "Digite o 3º número:5\n",
      "5.166666666666667\n"
     ]
    }
   ],
   "source": [
    "insert_1 = float(input('Digite o 1º número:'))\n",
    "insert_2 = float(input('Digite o 2º número:'))\n",
    "insert_3 = float(input('Digite o 3º número:'))\n",
    "\n",
    "media = (insert_1 + insert_2 + insert_3)/3\n",
    "print(media)"
   ]
  },
  {
   "cell_type": "code",
   "execution_count": 37,
   "metadata": {},
   "outputs": [
    {
     "name": "stdout",
     "output_type": "stream",
     "text": [
      "0\n",
      "1\n",
      "2\n",
      "3\n",
      "4\n"
     ]
    }
   ],
   "source": [
    "contador = 0\n",
    "while contador < 5:\n",
    "       print(contador)\n",
    "       contador = contador + 1"
   ]
  },
  {
   "cell_type": "code",
   "execution_count": null,
   "metadata": {},
   "outputs": [],
   "source": []
  },
  {
   "cell_type": "code",
   "execution_count": null,
   "metadata": {},
   "outputs": [],
   "source": []
  }
 ],
 "metadata": {
  "kernelspec": {
   "display_name": "Python 3",
   "language": "python",
   "name": "python3"
  },
  "language_info": {
   "codemirror_mode": {
    "name": "ipython",
    "version": 3
   },
   "file_extension": ".py",
   "mimetype": "text/x-python",
   "name": "python",
   "nbconvert_exporter": "python",
   "pygments_lexer": "ipython3",
   "version": "3.8.3"
  }
 },
 "nbformat": 4,
 "nbformat_minor": 4
}
