{
 "cells": [
  {
   "cell_type": "code",
   "execution_count": 1,
   "metadata": {},
   "outputs": [
    {
     "name": "stdout",
     "output_type": "stream",
     "text": [
      "10\n",
      "100\n"
     ]
    }
   ],
   "source": [
    "lado_do_quadrado=int(input())\n",
    "area_do_quadrado = lado_do_quadrado**2\n",
    "print(area_do_quadrado)"
   ]
  },
  {
   "cell_type": "code",
   "execution_count": 3,
   "metadata": {},
   "outputs": [
    {
     "name": "stdout",
     "output_type": "stream",
     "text": [
      "20\n",
      "400\n"
     ]
    }
   ],
   "source": [
    "lado_do_quadrado=int(input())\n",
    "area_do_quadrado = lado_do_quadrado**2\n",
    "print(area_do_quadrado)"
   ]
  },
  {
   "cell_type": "code",
   "execution_count": 15,
   "metadata": {},
   "outputs": [
    {
     "name": "stdout",
     "output_type": "stream",
     "text": [
      "Digite o nome do usuário: La\n",
      "Digite a distância do percurso 1: 1\n",
      "Digite a distância do percurso 2: 2\n",
      "Digite a distância do percurso 3: 3\n",
      "Bom dia,  La ! A distância total percorrida foi de 6.0 km\n"
     ]
    }
   ],
   "source": [
    "#EXERCICÍO EUROTRIP\n",
    "\n",
    "nome_usuario = str(input('Digite o nome do usuário: '))\n",
    "percurso_1 = float(input('Digite a distância do percurso 1: '))\n",
    "percurso_2 = float(input('Digite a distância do percurso 2: '))\n",
    "percurso_3 = float(input('Digite a distância do percurso 3: '))\n",
    "percurso_total = percurso_1 + percurso_2 + percurso_3\n",
    "\n",
    "print('Bom dia, ',nome_usuario,'! A distância total percorrida foi de',percurso_total,\"km\")"
   ]
  },
  {
   "cell_type": "code",
   "execution_count": 18,
   "metadata": {},
   "outputs": [
    {
     "name": "stdout",
     "output_type": "stream",
     "text": [
      "Número de passageiros na saída: 5\n",
      "Parada 1\n",
      "Passageiros que entraram: 5\n",
      "Passageiros que sairam: 5\n",
      "Passageiros dentro do ônibus: 5\n",
      "Parada 2\n",
      "Passageiros que entraram: 5\n",
      "Passageiros que sairam:5\n",
      "Passageiros dentro do ônibus: 15\n"
     ]
    }
   ],
   "source": [
    "#EXERCICÍO BUSÃO\n",
    "\n",
    "n_passageiros = int(input('Número de passageiros na saída: '))\n",
    "print('Parada 1')\n",
    "passageiros_entraram = int(input('Passageiros que entraram: '))\n",
    "passageiros_sairam = int(input('Passageiros que sairam: '))\n",
    "numero_passageiros_parada_1 = n_passageiros + passageiros_entraram - passageiros_sairam\n",
    "print('Passageiros dentro do ônibus:',numero_passageiros_parada_1)\n",
    "print('Parada 2')\n",
    "passageiros_entraram = int(input('Passageiros que entraram: '))\n",
    "passageiros_sairam = int(input('Passageiros que sairam:'))\n",
    "numero_passageiros_parada_2 = numero_passageitros_parada_1 + passageiros_entraram - passageiros_sairam\n",
    "print('Passageiros dentro do ônibus:',numero_passageiros_parada_2)"
   ]
  },
  {
   "cell_type": "code",
   "execution_count": 25,
   "metadata": {},
   "outputs": [
    {
     "name": "stdout",
     "output_type": "stream",
     "text": [
      "40\n"
     ]
    }
   ],
   "source": [
    "a = 20\n",
    "a = a + 20\n",
    "print(a)"
   ]
  },
  {
   "cell_type": "code",
   "execution_count": null,
   "metadata": {},
   "outputs": [],
   "source": []
  }
 ],
 "metadata": {
  "kernelspec": {
   "display_name": "Python 3",
   "language": "python",
   "name": "python3"
  },
  "language_info": {
   "codemirror_mode": {
    "name": "ipython",
    "version": 3
   },
   "file_extension": ".py",
   "mimetype": "text/x-python",
   "name": "python",
   "nbconvert_exporter": "python",
   "pygments_lexer": "ipython3",
   "version": "3.8.3"
  }
 },
 "nbformat": 4,
 "nbformat_minor": 4
}
