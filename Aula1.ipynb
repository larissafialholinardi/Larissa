{
 "cells": [
  {
   "cell_type": "markdown",
   "metadata": {},
   "source": [
    "# Aula 1 - Introdução ao Jupyter\n",
    "\n",
    "Atalhos de comando\n",
    "\n",
    "Ctrl+Enter ou Shift+Enter: Executa célula\n",
    "m: Transforma em markdown\n",
    "y: transforma celula em código\n",
    "dd(deleta): remove célula\n",
    "a (above): insere nova celula acima\n",
    "b (belw):insere nova celula abaixo\n",
    "O Python é case sentitive\n",
    "teste_python: é melhor sempre usar é _ (snake case)\n",
    "''':comenta o código\n",
    "#CamelCase: As primeiras letras maiúsculas\n",
    "\n"
   ]
  },
  {
   "cell_type": "code",
   "execution_count": 17,
   "metadata": {},
   "outputs": [
    {
     "data": {
      "text/plain": [
       "100"
      ]
     },
     "execution_count": 17,
     "metadata": {},
     "output_type": "execute_result"
    }
   ],
   "source": [
    "x=6*2\n",
    "y=3\n",
    "(y+y*x-1)/2\n",
    "10**2 #Como se fosse o ^ da matematica financeira\n",
    "10**(1/2) #Raiz quadrada é **(1/2)"
   ]
  },
  {
   "cell_type": "code",
   "execution_count": 37,
   "metadata": {},
   "outputs": [
    {
     "name": "stdout",
     "output_type": "stream",
     "text": [
      "Olá mundo, esse ano vou fazer 31 anos\n"
     ]
    }
   ],
   "source": [
    "ano_atual=2021\n",
    "ano_nascimento=1990\n",
    "idade = ano_atual - ano_nascimento\n",
    "print(\"Olá mundo, esse ano vou fazer\",idade,\"anos\")"
   ]
  },
  {
   "cell_type": "code",
   "execution_count": null,
   "metadata": {},
   "outputs": [],
   "source": []
  }
 ],
 "metadata": {
  "kernelspec": {
   "display_name": "Python 3",
   "language": "python",
   "name": "python3"
  },
  "language_info": {
   "codemirror_mode": {
    "name": "ipython",
    "version": 3
   },
   "file_extension": ".py",
   "mimetype": "text/x-python",
   "name": "python",
   "nbconvert_exporter": "python",
   "pygments_lexer": "ipython3",
   "version": "3.8.3"
  }
 },
 "nbformat": 4,
 "nbformat_minor": 4
}
