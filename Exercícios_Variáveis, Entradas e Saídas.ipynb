{
 "cells": [
  {
   "cell_type": "code",
   "execution_count": 1,
   "metadata": {},
   "outputs": [
    {
     "name": "stdout",
     "output_type": "stream",
     "text": [
      "Bem vindo ao Soma 2\n",
      "Digite um número5\n",
      "O resultado é  7\n"
     ]
    }
   ],
   "source": [
    "#Exercício 1\n",
    "print('Bem vindo ao Soma 2')\n",
    "numero  = int(input('Digite um número')) #numero  = input('Digite um número') esse é o erro\n",
    "resultado = numero + 2 \n",
    "print('O resultado é ', resultado)"
   ]
  },
  {
   "cell_type": "code",
   "execution_count": 2,
   "metadata": {},
   "outputs": [
    {
     "name": "stdout",
     "output_type": "stream",
     "text": [
      "5\n",
      "4 10\n"
     ]
    }
   ],
   "source": [
    "#Exercício 2\n",
    "\n",
    "a = 2\n",
    "b = 5\n",
    "print(b)\n",
    "a = 4\n",
    "b = 10\n",
    "print(a, b)"
   ]
  },
  {
   "cell_type": "code",
   "execution_count": 3,
   "metadata": {},
   "outputs": [
    {
     "name": "stdout",
     "output_type": "stream",
     "text": [
      "Digite um número: 10\n",
      "O número foi  10\n"
     ]
    }
   ],
   "source": [
    "#Exercício 1\n",
    "numero  = int(input('Digite um número: ')) \n",
    "print('O número foi ', numero)"
   ]
  },
  {
   "cell_type": "code",
   "execution_count": 9,
   "metadata": {},
   "outputs": [
    {
     "name": "stdout",
     "output_type": "stream",
     "text": [
      "Digite um número: 8.6\n",
      "O número foi  8.6\n",
      "<class 'float'>\n"
     ]
    }
   ],
   "source": [
    "#Faça um programa que peça um número para o usuário ( string ), \n",
    "#converta-o para float e depois imprima-o na tela. \n",
    "#Você consegue fazer a mesma coisa, porém convertendo para int ?\n",
    "\n",
    "#Str to Float\n",
    "numero  = str(input('Digite um número: '))\n",
    "numero=float(numero)\n",
    "print(numero)"
   ]
  },
  {
   "cell_type": "code",
   "execution_count": 26,
   "metadata": {},
   "outputs": [
    {
     "name": "stdout",
     "output_type": "stream",
     "text": [
      "Digite um número: 5896\n"
     ]
    },
    {
     "data": {
      "text/plain": [
       "int"
      ]
     },
     "execution_count": 26,
     "metadata": {},
     "output_type": "execute_result"
    }
   ],
   "source": [
    "#Str to Int\n",
    "numero  = str(input('Digite um número: '))\n",
    "numero=int(numero)\n",
    "print(numero)"
   ]
  },
  {
   "cell_type": "code",
   "execution_count": 29,
   "metadata": {},
   "outputs": [
    {
     "name": "stdout",
     "output_type": "stream",
     "text": [
      "Digite o 1º número inteiro: 58\n",
      "Digite o 2º número inteiro: 531\n",
      "O 1º número digitado foi  58  e o 2º número digitado foi  531\n"
     ]
    }
   ],
   "source": [
    "#Faça um programa que peça dois números inteiros e imprima a deles.\n",
    "\n",
    "numero_1  = int(input('Digite o 1º número inteiro: '))\n",
    "numero_2  = int(input('Digite o 2º número inteiro: '))\n",
    "print(\"O 1º número digitado foi \",numero_1,\" e o 2º número digitado foi \",numero_2)"
   ]
  },
  {
   "cell_type": "code",
   "execution_count": 31,
   "metadata": {},
   "outputs": [
    {
     "name": "stdout",
     "output_type": "stream",
     "text": [
      "Digite a nota do 1º bimestre: 5.6\n",
      "Digite a nota do 2º bimestre: 10\n",
      "Digite a nota do 3º bimestre: 9\n",
      "Digite a nota do 4º bimestre: 5\n",
      "A média aritmética é de  7.4\n"
     ]
    }
   ],
   "source": [
    "#Média aritmética\n",
    "\n",
    "nota_1  = float(input('Digite a nota do 1º bimestre: '))\n",
    "nota_2  = float(input('Digite a nota do 2º bimestre: '))\n",
    "nota_3  = float(input('Digite a nota do 3º bimestre: '))\n",
    "nota_4  = float(input('Digite a nota do 4º bimestre: '))\n",
    "media = (nota_1 + nota_2 + nota_3 + nota_4)/4\n",
    "\n",
    "print(\"A média aritmética é de \",media)"
   ]
  },
  {
   "cell_type": "code",
   "execution_count": 34,
   "metadata": {},
   "outputs": [
    {
     "name": "stdout",
     "output_type": "stream",
     "text": [
      "Digite o raio de um círculo: 6.5\n",
      "A área do círculo é  132.665\n"
     ]
    }
   ],
   "source": [
    "#Faça um programa que peça o raio de um círculo, calcule e mostre sua área.\n",
    "#Obs : Fórmula da área de um círculo: A = 3,14 * (r ** 2), onde r é o raio.\n",
    "\n",
    "raio = float(input('Digite o raio de um círculo: '))\n",
    "area = 3.14 * (raio ** 2)\n",
    "\n",
    "print(\"A área do círculo é \",area)"
   ]
  },
  {
   "cell_type": "code",
   "execution_count": 36,
   "metadata": {},
   "outputs": [
    {
     "name": "stdout",
     "output_type": "stream",
     "text": [
      "Digite aqui o quanto você ganha por hora: 25\n",
      "Agora, me conta quantas horas você trabalha por mês: 200\n",
      "Seu salário esse mês será de  5000.0\n"
     ]
    }
   ],
   "source": [
    "#Faça um programa que pergunte quanto você ganha por hora e o \n",
    "#número de horas trabalhadas no mês e depois,\n",
    "#calcule e mostre o total do seu salário no mês referido.\n",
    "\n",
    "valor_por_hora  = float(input('Digite aqui o quanto você ganha por hora: '))\n",
    "horas_trabalhadas  = float(input('Agora, me conta quantas horas você trabalha por mês: '))\n",
    "salario = valor_por_hora * horas_trabalhadas\n",
    "\n",
    "print(\"Seu salário esse mês será de \",salario)"
   ]
  },
  {
   "cell_type": "code",
   "execution_count": 39,
   "metadata": {},
   "outputs": [
    {
     "name": "stdout",
     "output_type": "stream",
     "text": [
      "Digite aqui a temperatura em graus Fahrenheit (F): 70\n",
      "A temperatura é  21.11111111111111 °C\n"
     ]
    }
   ],
   "source": [
    "#Faça um programa que peça a temperatura em graus Fahrenheit (F), transforme e mostre a temperatura em graus Celsius (° C).\n",
    "#Fórmula ° C = (5 * (F-32) / 9)\n",
    "\n",
    "#Fahrenheit to Celsius\n",
    "temperatura_fahrenheit  = float(input('Digite aqui a temperatura em graus Fahrenheit (F): '))\n",
    "temperatura_celsius = (5 * (temperatura_fahrenheit - 32) / 9)\n",
    "\n",
    "print(\"A temperatura é \",temperatura_celsius,\"°C\")"
   ]
  },
  {
   "cell_type": "code",
   "execution_count": 42,
   "metadata": {},
   "outputs": [
    {
     "name": "stdout",
     "output_type": "stream",
     "text": [
      "Digite aqui a temperatura em graus Celsius (C): 22\n",
      "A temperatura é  71.6 °F\n"
     ]
    }
   ],
   "source": [
    "#Obs : Tente também fazer um programa que faça o inverso: peça a temperatura em graus Celsius e a \n",
    "#transforme em graus Fahrenheit.\n",
    "\n",
    "#Celsius to Fahrenheit\n",
    "temperatura_celsius  = float(input('Digite aqui a temperatura em graus Celsius (C): '))\n",
    "temperatura_fahrenheit = ((temperatura_celsius * 9/5) + 32)\n",
    "\n",
    "print(\"A temperatura é \",temperatura_fahrenheit,\"°F\")"
   ]
  },
  {
   "cell_type": "code",
   "execution_count": 43,
   "metadata": {},
   "outputs": [
    {
     "name": "stdout",
     "output_type": "stream",
     "text": [
      "Digite o dia (dd): 5\n",
      "Digite o mês (mm): 12\n",
      "Digite o ano (aaaa): 2021\n",
      "A data é  5 / 12 / 2021\n"
     ]
    }
   ],
   "source": [
    "#Faça um programa que peça o dia, o mês e o ano para o usuário e imprima os dados completos no formato dd / mm / aaaa.\n",
    "\n",
    "dia  = int(input('Digite o dia (dd): '))\n",
    "mes  = int(input('Digite o mês (mm): '))\n",
    "ano  = int(input('Digite o ano (aaaa): '))\n",
    "\n",
    "print(\"A data é \",dia,\"/\",mes,\"/\",ano)"
   ]
  },
  {
   "cell_type": "code",
   "execution_count": 44,
   "metadata": {},
   "outputs": [
    {
     "name": "stdout",
     "output_type": "stream",
     "text": [
      "Digite um número inteiro: 5\n",
      "Agora digite outro número inteiro: 6\n",
      "E para finalizar, digite um número real: 2.5\n",
      "o produto do dobro do primeiro com metade do segundo  13.0\n",
      "a soma do triplo do primeiro com o terceiro  17.5\n",
      "o terceiro elevado ao cubo  15.625\n"
     ]
    }
   ],
   "source": [
    "#Faça um programa que peça 2 números inteiros e um número real, calcule e mostre:\n",
    "#a) o produto do dobro do primeiro com metade do segundo.\n",
    "#b) a soma do triplo do primeiro com o terceiro.\n",
    "#c) o terceiro elevado ao cubo.\n",
    "\n",
    "numero_int_1  = int(input('Digite um número inteiro: '))\n",
    "numero_int_2  = int(input('Agora digite outro número inteiro: '))\n",
    "numero_real  = float(input('E para finalizar, digite um número real: '))\n",
    "\n",
    "produto = (numero_int_1 * 2) + (numero_int_2 / 2)\n",
    "soma = (numero_int_1 * 3)+numero_real\n",
    "cubo = numero_real ** 3\n",
    "\n",
    "print(\"o produto do dobro do primeiro com metade do segundo \",produto)\n",
    "print(\"a soma do triplo do primeiro com o terceiro \",soma)\n",
    "print(\"o terceiro elevado ao cubo \",cubo)"
   ]
  },
  {
   "cell_type": "code",
   "execution_count": 45,
   "metadata": {},
   "outputs": [
    {
     "name": "stdout",
     "output_type": "stream",
     "text": [
      "Digite seu peso: 78\n",
      "Digite sua altura: 1.62\n",
      "Seu Índice de Massa Corporal (IMC) é  29.721079103795148\n"
     ]
    }
   ],
   "source": [
    "#Calcule o IMS >>> Obs : IMC = Peso / Altura ** 2\n",
    "\n",
    "peso  = float(input('Digite seu peso: '))\n",
    "altura  = float(input('Digite sua altura: '))\n",
    "IMC = peso / altura ** 2\n",
    "\n",
    "print(\"Seu Índice de Massa Corporal (IMC) é \",IMC)"
   ]
  },
  {
   "cell_type": "code",
   "execution_count": 47,
   "metadata": {},
   "outputs": [
    {
     "name": "stdout",
     "output_type": "stream",
     "text": [
      "Digite um valor monetário: 200\n",
      "O novo valor é  229.99999999999997\n"
     ]
    }
   ],
   "source": [
    "#Faça um programa que peça um valor monetário e aumente-o em 15%.\n",
    "#Seu programa deve imprimir a mensagem “O novo valor é [valor]”.\n",
    "\n",
    "valor_monetario  = float(input('Digite um valor monetário: '))\n",
    "novo_valor = valor_monetario * 1.15\n",
    "\n",
    "print(\"O novo valor é \",novo_valor)"
   ]
  },
  {
   "cell_type": "code",
   "execution_count": 48,
   "metadata": {},
   "outputs": [
    {
     "name": "stdout",
     "output_type": "stream",
     "text": [
      "Digite um valor monetário: 200\n",
      "O novo valor é  170.0\n"
     ]
    }
   ],
   "source": [
    "#Faça um programa que peça um valor monetário e diminua-o em 15%. \n",
    "#Seu programa deve imprimir a mensagem “O novo valor é [valor]”.\n",
    "\n",
    "valor_monetario  = float(input('Digite um valor monetário: '))\n",
    "novo_valor = valor_monetario * 0.85\n",
    "\n",
    "print(\"O novo valor é \",novo_valor)"
   ]
  },
  {
   "cell_type": "code",
   "execution_count": 66,
   "metadata": {},
   "outputs": [
    {
     "name": "stdout",
     "output_type": "stream",
     "text": [
      "Digite uma velocidade inicial (m / s): -5\n",
      "Digite uma posição inicial (m): 0\n",
      "Digite um instante de tempo (s): 1\n",
      "A posição de um projétil nesse instante de tempo é  -10.0\n"
     ]
    }
   ],
   "source": [
    "#Desafio 1 - Peça para o usuário digitar uma velocidade inicial (em m / s), uma posição inicial (em m) \n",
    "#e um instante de tempo (em s) e imprima uma posição de um projétil nesse instante de tempo.\n",
    "#Use uma fórmula matemática: y (t) = y (0) + v (0) * t + (g * (t ** 2) / 2)\n",
    "#Onde, g é a aceleração da gravidade (-10m / s²), \n",
    "#y (t) é a posição final, \n",
    "#y (0) é a posição inicial, \n",
    "#v (0) é a velocidade inicial e é o instante de tempo.\n",
    "\n",
    "#Descendo, porque a velocidade inicial é negativa\n",
    "velocidade  = float(input('Digite uma velocidade inicial (m / s): '))\n",
    "posicao_inicial = float(input('Digite uma posição inicial (m): '))\n",
    "tempo  = float(input('Digite um instante de tempo (s): '))\n",
    "resultado = posicao_inicial + velocidade * tempo + ((-10) * (tempo ** 2) / 2)\n",
    "\n",
    "print(\"A posição de um projétil nesse instante de tempo é \",resultado)\n"
   ]
  },
  {
   "cell_type": "code",
   "execution_count": 65,
   "metadata": {},
   "outputs": [
    {
     "name": "stdout",
     "output_type": "stream",
     "text": [
      "Digite uma velocidade inicial (m / s): 5\n",
      "Digite uma posição inicial (m): 0\n",
      "Digite um instante de tempo (s): 1\n",
      "A posição de um projétil nesse instante de tempo é  10.0\n"
     ]
    }
   ],
   "source": [
    "#Subindo, porque a velocidade inicial é positiva\n",
    "velocidade  = float(input('Digite uma velocidade inicial (m / s): '))\n",
    "posicao_inicial = float(input('Digite uma posição inicial (m): '))\n",
    "tempo  = float(input('Digite um instante de tempo (s): '))\n",
    "resultado = posicao_inicial + velocidade * tempo + ((10) * (tempo ** 2) / 2)\n",
    "\n",
    "print(\"A posição de um projétil nesse instante de tempo é \",resultado)"
   ]
  },
  {
   "cell_type": "code",
   "execution_count": null,
   "metadata": {},
   "outputs": [],
   "source": []
  },
  {
   "cell_type": "code",
   "execution_count": 59,
   "metadata": {},
   "outputs": [
    {
     "name": "stdout",
     "output_type": "stream",
     "text": [
      "2021-03-13 20:51:41.117500\n",
      "13/03/2021 20:51\n"
     ]
    }
   ],
   "source": [
    "#Desafio 2 - Faça um programa que informe os dados e a hora para o usuário. \n",
    "#Para isso, use uma função datetime.now () do módulo datetime.\n",
    "\n",
    "from datetime import datetime\n",
    "\n",
    "#Sem tratamento\n",
    "data_e_hora_atuais = datetime.now()\n",
    "print(data_e_hora_atuais)\n",
    "\n",
    "#Com tratamento\n",
    "data_e_hora_em_texto = data_e_hora_atuais.strftime('%d/%m/%Y %H:%M')\n",
    "print(data_e_hora_em_texto)\n"
   ]
  }
 ],
 "metadata": {
  "kernelspec": {
   "display_name": "Python 3",
   "language": "python",
   "name": "python3"
  },
  "language_info": {
   "codemirror_mode": {
    "name": "ipython",
    "version": 3
   },
   "file_extension": ".py",
   "mimetype": "text/x-python",
   "name": "python",
   "nbconvert_exporter": "python",
   "pygments_lexer": "ipython3",
   "version": "3.8.3"
  }
 },
 "nbformat": 4,
 "nbformat_minor": 4
}
